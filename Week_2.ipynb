{
  "nbformat": 4,
  "nbformat_minor": 0,
  "metadata": {
    "colab": {
      "provenance": [],
      "authorship_tag": "ABX9TyMGq2ysYT0mY9QpVbCcD5df",
      "include_colab_link": true
    },
    "kernelspec": {
      "name": "python3",
      "display_name": "Python 3"
    },
    "language_info": {
      "name": "python"
    }
  },
  "cells": [
    {
      "cell_type": "markdown",
      "metadata": {
        "id": "view-in-github",
        "colab_type": "text"
      },
      "source": [
        "<a href=\"https://colab.research.google.com/github/Anubhav225/Pre-placement-coding/blob/main/Week_2.ipynb\" target=\"_parent\"><img src=\"https://colab.research.google.com/assets/colab-badge.svg\" alt=\"Open In Colab\"/></a>"
      ]
    },
    {
      "cell_type": "code",
      "execution_count": 4,
      "metadata": {
        "colab": {
          "base_uri": "https://localhost:8080/"
        },
        "id": "m6x15nlYUQVT",
        "outputId": "0dce96be-a08b-484f-f550-d50298a7c1e4"
      },
      "outputs": [
        {
          "output_type": "stream",
          "name": "stdout",
          "text": [
            "[1, 2, 3, 6, 9, 8, 7, 4, 5]\n"
          ]
        }
      ],
      "source": [
        "def spiralOrder(matrix):\n",
        "    result = []\n",
        "    while matrix:\n",
        "        result += matrix.pop(0)\n",
        "        matrix = list(zip(*matrix))[::-1]\n",
        "    return result\n",
        "\n",
        "mat = [[1,2,3],[4,5,6],[7,8,9]]\n",
        "print(spiralOrder(mat))"
      ]
    },
    {
      "cell_type": "code",
      "source": [
        "\n",
        "def rotate90(matrix):\n",
        "    n = len(matrix)\n",
        "    for i in range(n):\n",
        "        for j in range(i, n):\n",
        "            matrix[i][j], matrix[j][i] = matrix[j][i], matrix[i][j]\n",
        "    for row in matrix:\n",
        "        row.reverse()\n",
        "    return matrix\n",
        "\n",
        "# Example\n",
        "mat = [[1,2,3],[4,5,6],[7,8,9]]\n",
        "print(rotate90(mat))"
      ],
      "metadata": {
        "colab": {
          "base_uri": "https://localhost:8080/"
        },
        "id": "ytgwn_piU3nw",
        "outputId": "a59d29fa-a50f-445d-e489-c4ba6a6822ff"
      },
      "execution_count": 5,
      "outputs": [
        {
          "output_type": "stream",
          "name": "stdout",
          "text": [
            "[[7, 4, 1], [8, 5, 2], [9, 6, 3]]\n"
          ]
        }
      ]
    },
    {
      "cell_type": "code",
      "source": [
        "def diagonalSum(mat):\n",
        "    n = len(mat)\n",
        "    total = 0\n",
        "    for i in range(n):\n",
        "        total += mat[i][i]\n",
        "        if i != n - 1 - i:\n",
        "            total += mat[i][n - 1 - i]\n",
        "    return total\n",
        "\n",
        "mat = [[1,2,3],[4,5,6],[7,8,9]]\n",
        "print(diagonalSum(mat))"
      ],
      "metadata": {
        "colab": {
          "base_uri": "https://localhost:8080/"
        },
        "id": "ct7a34F5VITe",
        "outputId": "59d36ad5-9705-4343-c75c-e83e7492f2e7"
      },
      "execution_count": 6,
      "outputs": [
        {
          "output_type": "stream",
          "name": "stdout",
          "text": [
            "25\n"
          ]
        }
      ]
    },
    {
      "cell_type": "code",
      "source": [
        "def transpose(mat):\n",
        "    return [list(row) for row in zip(*mat)]\n",
        "\n",
        "mat = [[1,2,3],[4,5,6],[7,8,9]]\n",
        "print(transpose(mat))"
      ],
      "metadata": {
        "colab": {
          "base_uri": "https://localhost:8080/"
        },
        "id": "iJI3ajKiVWYI",
        "outputId": "5f93f898-320b-4292-b56d-194e18ef2f14"
      },
      "execution_count": 7,
      "outputs": [
        {
          "output_type": "stream",
          "name": "stdout",
          "text": [
            "[[1, 4, 7], [2, 5, 8], [3, 6, 9]]\n"
          ]
        }
      ]
    },
    {
      "cell_type": "code",
      "source": [
        "def isSparse(mat):\n",
        "    rows, cols = len(mat), len(mat[0])\n",
        "    zero_count = sum(row.count(0) for row in mat)\n",
        "    return zero_count > (rows * cols) // 2\n",
        "\n",
        "mat = [[0,0,1],[0,0,0],[1,0,0]]\n",
        "print(isSparse(mat))"
      ],
      "metadata": {
        "colab": {
          "base_uri": "https://localhost:8080/"
        },
        "id": "mBUBFyBAVbN5",
        "outputId": "ed2f31c6-23b2-4617-efd6-dc4b6a7f16c2"
      },
      "execution_count": 8,
      "outputs": [
        {
          "output_type": "stream",
          "name": "stdout",
          "text": [
            "True\n"
          ]
        }
      ]
    },
    {
      "cell_type": "code",
      "source": [
        "def addPolynomials(poly1, poly2):\n",
        "    n = max(len(poly1), len(poly2))\n",
        "    result = [0] * n\n",
        "    for i in range(len(poly1)):\n",
        "        result[i] += poly1[i]\n",
        "    for i in range(len(poly2)):\n",
        "        result[i] += poly2[i]\n",
        "    return result\n",
        "\n",
        "print(addPolynomials([5, 0, 10, 6], [1, 2, 4]))"
      ],
      "metadata": {
        "colab": {
          "base_uri": "https://localhost:8080/"
        },
        "id": "jIw6cphYVgqV",
        "outputId": "130f14b9-a7c3-4af6-a1f0-082d8eff4160"
      },
      "execution_count": 9,
      "outputs": [
        {
          "output_type": "stream",
          "name": "stdout",
          "text": [
            "[6, 2, 14, 6]\n"
          ]
        }
      ]
    },
    {
      "cell_type": "code",
      "source": [
        "def multiplyPolynomials(poly1, poly2):\n",
        "    result = [0] * (len(poly1) + len(poly2) - 1)\n",
        "    for i in range(len(poly1)):\n",
        "        for j in range(len(poly2)):\n",
        "            result[i + j] += poly1[i] * poly2[j]\n",
        "    return result\n",
        "\n",
        "print(multiplyPolynomials([1, 2], [3, 4]))"
      ],
      "metadata": {
        "colab": {
          "base_uri": "https://localhost:8080/"
        },
        "id": "2pHNuaoGVjjF",
        "outputId": "b16c73e0-1e23-4ccf-98bb-d9f40a087b6a"
      },
      "execution_count": 10,
      "outputs": [
        {
          "output_type": "stream",
          "name": "stdout",
          "text": [
            "[3, 10, 8]\n"
          ]
        }
      ]
    },
    {
      "cell_type": "code",
      "source": [
        "def dynamicArray(n, queries):\n",
        "    arr = [[] for _ in range(n)]\n",
        "    lastAnswer = 0\n",
        "    result = []\n",
        "    for q in queries:\n",
        "        t, x, y = q\n",
        "        idx = (x ^ lastAnswer) % n\n",
        "        if t == 1:\n",
        "            arr[idx].append(y)\n",
        "        else:\n",
        "            lastAnswer = arr[idx][y % len(arr[idx])]\n",
        "            result.append(lastAnswer)\n",
        "    return result\n",
        "\n",
        "queries = [[1,0,5],[1,1,7],[1,0,3],[2,1,0],[2,1,1]]\n",
        "print(dynamicArray(2, queries))"
      ],
      "metadata": {
        "colab": {
          "base_uri": "https://localhost:8080/"
        },
        "id": "0c2utwWxVlsx",
        "outputId": "010a7fef-4704-4927-9f07-54314911decf"
      },
      "execution_count": 11,
      "outputs": [
        {
          "output_type": "stream",
          "name": "stdout",
          "text": [
            "[7, 3]\n"
          ]
        }
      ]
    },
    {
      "cell_type": "code",
      "source": [
        "def isIdentity(mat):\n",
        "    n = len(mat)\n",
        "    for i in range(n):\n",
        "        for j in range(n):\n",
        "            if (i == j and mat[i][j] != 1) or (i != j and mat[i][j] != 0):\n",
        "                return False\n",
        "    return True\n",
        "\n",
        "mat = [[1,0,0],[0,1,0],[0,0,1]]\n",
        "print(isIdentity(mat))"
      ],
      "metadata": {
        "colab": {
          "base_uri": "https://localhost:8080/"
        },
        "id": "xNqPJz1TVpCJ",
        "outputId": "3300f41b-82a8-477a-c853-63f05f36e38c"
      },
      "execution_count": 12,
      "outputs": [
        {
          "output_type": "stream",
          "name": "stdout",
          "text": [
            "True\n"
          ]
        }
      ]
    },
    {
      "cell_type": "code",
      "source": [
        "def countZeros(mat):\n",
        "    count = 0\n",
        "    for row in mat:\n",
        "        for val in row:\n",
        "            if val == 0:\n",
        "                count += 1\n",
        "            else:\n",
        "                break\n",
        "    return count\n",
        "\n",
        "mat = [[0,0,0],[0,0,1],[0,1,1]]\n",
        "print(countZeros(mat))"
      ],
      "metadata": {
        "colab": {
          "base_uri": "https://localhost:8080/"
        },
        "id": "gxoAmoWpVrIC",
        "outputId": "75825052-cfc3-4035-82b8-e17db70d51e6"
      },
      "execution_count": 13,
      "outputs": [
        {
          "output_type": "stream",
          "name": "stdout",
          "text": [
            "6\n"
          ]
        }
      ]
    }
  ]
}