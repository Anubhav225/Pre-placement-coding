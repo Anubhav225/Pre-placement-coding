{
  "nbformat": 4,
  "nbformat_minor": 0,
  "metadata": {
    "colab": {
      "provenance": [],
      "authorship_tag": "ABX9TyM/5ltAPml51wWLPh7P7Nyr",
      "include_colab_link": true
    },
    "kernelspec": {
      "name": "python3",
      "display_name": "Python 3"
    },
    "language_info": {
      "name": "python"
    }
  },
  "cells": [
    {
      "cell_type": "markdown",
      "metadata": {
        "id": "view-in-github",
        "colab_type": "text"
      },
      "source": [
        "<a href=\"https://colab.research.google.com/github/Anubhav225/Pre-placement-coding/blob/main/PPT.ipynb\" target=\"_parent\"><img src=\"https://colab.research.google.com/assets/colab-badge.svg\" alt=\"Open In Colab\"/></a>"
      ]
    },
    {
      "cell_type": "code",
      "execution_count": null,
      "metadata": {
        "colab": {
          "base_uri": "https://localhost:8080/"
        },
        "id": "lVWaGaUithfv",
        "outputId": "32bb947d-c8b3-4999-e817-80017a6e08c6"
      },
      "outputs": [
        {
          "output_type": "stream",
          "name": "stdout",
          "text": [
            "[1, 2, 3, 4, 5, 6]\n"
          ]
        }
      ],
      "source": [
        "\n",
        "def insert(arr, element):\n",
        "    arr.append(element)\n",
        "\n",
        "arr = [1, 2, 3, 4, 5]\n",
        "insert(arr, 6)\n",
        "print(arr)"
      ]
    },
    {
      "cell_type": "code",
      "source": [],
      "metadata": {
        "id": "bnUvhZK-t9ba"
      },
      "execution_count": null,
      "outputs": []
    },
    {
      "cell_type": "code",
      "source": [
        "def largest(arr):\n",
        "    return max(arr)\n",
        "\n",
        "arr = [10, 20, 5, 30, 15]\n",
        "print(\"Largest element:\", largest(arr))"
      ],
      "metadata": {
        "colab": {
          "base_uri": "https://localhost:8080/"
        },
        "id": "acPXfWL-t94_",
        "outputId": "8ee89e55-a338-4be7-b1ad-89c5127596c1"
      },
      "execution_count": null,
      "outputs": [
        {
          "output_type": "stream",
          "name": "stdout",
          "text": [
            "Largest element: 30\n"
          ]
        }
      ]
    },
    {
      "cell_type": "markdown",
      "source": [],
      "metadata": {
        "id": "D-4oRNJauER2"
      }
    },
    {
      "cell_type": "code",
      "source": [
        "def second_largest(arr):\n",
        "    unique = list(set(arr))\n",
        "    unique.sort(reverse=True)\n",
        "    return unique[1] if len(unique) > 1 else None\n",
        "\n",
        "arr = [10, 20, 5, 30, 15]\n",
        "print(\"Second largest element:\", second_largest(arr))"
      ],
      "metadata": {
        "colab": {
          "base_uri": "https://localhost:8080/"
        },
        "id": "43e2Jr5huFor",
        "outputId": "8f37961e-79ed-4b19-da28-26d5677a5839"
      },
      "execution_count": null,
      "outputs": [
        {
          "output_type": "stream",
          "name": "stdout",
          "text": [
            "Second largest element: 20\n"
          ]
        }
      ]
    },
    {
      "cell_type": "code",
      "source": [
        "def move_zeros(arr):\n",
        "    non_zeros = [x for x in arr if x != 0]\n",
        "    zeros = [0] * (len(arr) - len(non_zeros))\n",
        "    return non_zeros + zeros\n",
        "\n",
        "arr = [0, 1, 0, 3, 12]\n",
        "print(move_zeros(arr))"
      ],
      "metadata": {
        "colab": {
          "base_uri": "https://localhost:8080/"
        },
        "id": "BXhasGJXuRh3",
        "outputId": "808b7e03-b241-4107-e3a4-268e9de7aa07"
      },
      "execution_count": null,
      "outputs": [
        {
          "output_type": "stream",
          "name": "stdout",
          "text": [
            "[1, 3, 12, 0, 0]\n"
          ]
        }
      ]
    },
    {
      "cell_type": "code",
      "source": [
        "def rotate_by_one(arr):\n",
        "    return [arr[-1]] + arr[:-1]\n",
        "\n",
        "arr = [1, 2, 3, 4, 5]\n",
        "print(rotate_by_one(arr))"
      ],
      "metadata": {
        "colab": {
          "base_uri": "https://localhost:8080/"
        },
        "id": "ULx35VfkueIJ",
        "outputId": "2e31d0eb-c61b-4f91-fcf9-76a884ba0795"
      },
      "execution_count": null,
      "outputs": [
        {
          "output_type": "stream",
          "name": "stdout",
          "text": [
            "[5, 1, 2, 3, 4]\n"
          ]
        }
      ]
    },
    {
      "cell_type": "code",
      "source": [
        "def is_sorted(arr):\n",
        "    return arr == sorted(arr)\n",
        "\n",
        "arr = [1, 2, 3, 4, 5]\n",
        "print(\"Is sorted:\", \"Yes\" if is_sorted(arr) else \"No\")"
      ],
      "metadata": {
        "colab": {
          "base_uri": "https://localhost:8080/"
        },
        "id": "NsqOU33uuiGj",
        "outputId": "c1c264f8-52a8-45d2-a5f0-552da3815960"
      },
      "execution_count": null,
      "outputs": [
        {
          "output_type": "stream",
          "name": "stdout",
          "text": [
            "Is sorted: Yes\n"
          ]
        }
      ]
    },
    {
      "cell_type": "code",
      "source": [
        "def reverse_string(s):\n",
        "    return s[::-1]\n",
        "\n",
        "s = \"Hello\"\n",
        "print(\"Reversed string:\", reverse_string(s))"
      ],
      "metadata": {
        "colab": {
          "base_uri": "https://localhost:8080/"
        },
        "id": "5rqDnSxGuk6S",
        "outputId": "784190f0-1801-47c1-fc7a-2db9cee6f29e"
      },
      "execution_count": null,
      "outputs": [
        {
          "output_type": "stream",
          "name": "stdout",
          "text": [
            "Reversed string: olleH\n"
          ]
        }
      ]
    },
    {
      "cell_type": "code",
      "source": [
        "def is_palindrome(s):\n",
        "    return s == s[::-1]\n",
        "\n",
        "s = \"madam\"\n",
        "print(\"Is palindrome:\", \"Yes\" if is_palindrome(s) else \"No\")"
      ],
      "metadata": {
        "colab": {
          "base_uri": "https://localhost:8080/"
        },
        "id": "WOqUMqLeurMC",
        "outputId": "db8302de-fb21-4cbf-cd17-9c7f3c9020de"
      },
      "execution_count": null,
      "outputs": [
        {
          "output_type": "stream",
          "name": "stdout",
          "text": [
            "Is palindrome: Yes\n"
          ]
        }
      ]
    },
    {
      "cell_type": "code",
      "source": [
        "from collections import Counter\n",
        "\n",
        "def count_frequency(arr):\n",
        "    freq = Counter(arr)\n",
        "    for key, value in freq.items():\n",
        "        print(f\"{key} occurs {value} times\")\n",
        "\n",
        "arr = [1, 2, 3, 1, 2, 1]\n",
        "count_frequency(arr)"
      ],
      "metadata": {
        "colab": {
          "base_uri": "https://localhost:8080/"
        },
        "id": "0ZV7yBxvuzTO",
        "outputId": "bdeeb31e-7eb7-46ea-aed5-5e94ee43a06b"
      },
      "execution_count": null,
      "outputs": [
        {
          "output_type": "stream",
          "name": "stdout",
          "text": [
            "1 occurs 3 times\n",
            "2 occurs 2 times\n",
            "3 occurs 1 times\n"
          ]
        }
      ]
    },
    {
      "cell_type": "code",
      "source": [
        "def reverse_array(arr):\n",
        "    return arr[::-1]\n",
        "\n",
        "arr = [1, 2, 3, 4, 5]\n",
        "reversed_arr = reverse_array(arr)\n",
        "print(\"{\" + \", \".join(map(str, reversed_arr)) + \"}\")"
      ],
      "metadata": {
        "colab": {
          "base_uri": "https://localhost:8080/"
        },
        "id": "JHP27np3vHqV",
        "outputId": "5c78f57d-9d8b-4506-bd5b-4ad50b286b3b"
      },
      "execution_count": null,
      "outputs": [
        {
          "output_type": "stream",
          "name": "stdout",
          "text": [
            "{5, 4, 3, 2, 1}\n"
          ]
        }
      ]
    },
    {
      "cell_type": "markdown",
      "source": [],
      "metadata": {
        "id": "I1dx7K9XtmlO"
      }
    }
  ]
}